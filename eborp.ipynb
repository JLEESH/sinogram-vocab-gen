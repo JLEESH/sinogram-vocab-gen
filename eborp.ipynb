{
 "cells": [
  {
   "cell_type": "code",
   "execution_count": null,
   "metadata": {},
   "outputs": [],
   "source": [
    "import os\n",
    "import json\n",
    "\n",
    "filepath = './output/out_json/'\n",
    "filename = 'out_e2.json'\n",
    "filepathname = filepath + filename\n",
    "\n",
    "with open(filepathname, \"r\") as f:\n",
    "    json_dict = json.load(f)\n"
   ]
  },
  {
   "cell_type": "code",
   "execution_count": 4,
   "metadata": {},
   "outputs": [
    {
     "data": {
      "text/plain": [
       "{'wordlist': [{'word': '理論',\n",
       "   'id': 'LiLun',\n",
       "   'alternative_forms': [' lý luận'],\n",
       "   'pronunciation': ['lý luận'],\n",
       "   'definition': ['theory', 'principle', 'doctrine'],\n",
       "   'translations': ['理論 (lǐlùn) - Chinese',\n",
       "    '理論 (riron) - Japanese',\n",
       "    '이론 (iron) - Korean']},\n",
       "  {'word': '文化',\n",
       "   'id': 'WenHua',\n",
       "   'alternative_forms': [' văn hóa'],\n",
       "   'pronunciation': ['văn hóa'],\n",
       "   'definition': ['culture'],\n",
       "   'translations': ['文化 (wénhuà) - Chinese',\n",
       "    '文化 (bunka) - Japanese',\n",
       "    '문화 (munhwa) - Korean']},\n",
       "  {'word': '科學',\n",
       "   'id': 'KeXue',\n",
       "   'alternative_forms': [' khoa học'],\n",
       "   'pronunciation': ['khoa học'],\n",
       "   'definition': ['science', 'scientific study'],\n",
       "   'translations': ['科学 (kēxué) - Chinese',\n",
       "    '科学 (kagaku) - Japanese',\n",
       "    '과학 (gwahak) - Korean']},\n",
       "  {'word': '技術',\n",
       "   'id': 'JiShu',\n",
       "   'alternative_forms': [' kỹ thuật'],\n",
       "   'pronunciation': ['kỹ thuật'],\n",
       "   'definition': ['technology', 'technique', 'skill'],\n",
       "   'translations': ['技术 (jìshù) - Chinese',\n",
       "    '技術 (gijutsu) - Japanese',\n",
       "    '기술 (gisul) - Korean']},\n",
       "  {'word': '教育',\n",
       "   'id': 'JiaoYu',\n",
       "   'alternative_forms': [' giáo dục'],\n",
       "   'pronunciation': ['giáo dục'],\n",
       "   'definition': ['education', 'teaching'],\n",
       "   'translations': ['教育 (jiàoyù) - Chinese',\n",
       "    '教育 (kyōiku) - Japanese',\n",
       "    '교육 (gyoyuk) - Korean']},\n",
       "  {'word': '現代',\n",
       "   'id': 'XianDai',\n",
       "   'alternative_forms': [' hiện đại'],\n",
       "   'pronunciation': ['hiện đại'],\n",
       "   'definition': ['modern', 'contemporary'],\n",
       "   'translations': ['现代 (xiàndài) - Chinese',\n",
       "    '現代 (gendai) - Japanese',\n",
       "    '현대 (hyeondae) - Korean']},\n",
       "  {'word': '經濟',\n",
       "   'id': 'JingJi',\n",
       "   'alternative_forms': [' kinh tế'],\n",
       "   'pronunciation': ['kinh tế'],\n",
       "   'definition': ['economy', 'economic'],\n",
       "   'translations': ['经济 (jīngjì) - Chinese',\n",
       "    '経済 (keizai) - Japanese',\n",
       "    '경제 (gyeongje) - Korean']},\n",
       "  {'word': '政治',\n",
       "   'id': 'ZhengZhi',\n",
       "   'alternative_forms': [' chính trị'],\n",
       "   'pronunciation': ['chính trị'],\n",
       "   'definition': ['politics', 'political affairs'],\n",
       "   'translations': ['政治 (zhèngzhì) - Chinese',\n",
       "    '政治 (seiji) - Japanese',\n",
       "    '정치 (jeongchi) - Korean']},\n",
       "  {'word': '心理',\n",
       "   'id': 'XinLi',\n",
       "   'alternative_forms': [' tâm lý'],\n",
       "   'pronunciation': ['tâm lý'],\n",
       "   'definition': ['psychology', 'mental'],\n",
       "   'translations': ['心理 (xīnlǐ) - Chinese',\n",
       "    '心理 (shinri) - Japanese',\n",
       "    '심리 (simni) - Korean']},\n",
       "  {'word': '社會',\n",
       "   'id': 'SheHui',\n",
       "   'alternative_forms': [' xã hội'],\n",
       "   'pronunciation': ['xã hội'],\n",
       "   'definition': ['society', 'social'],\n",
       "   'translations': ['社会 (shèhuì) - Chinese',\n",
       "    '社会 (shakai) - Japanese',\n",
       "    '사회 (sahoe) - Korean']},\n",
       "  {'word': '歷史',\n",
       "   'id': 'LiShi',\n",
       "   'alternative_forms': [' lịch sử'],\n",
       "   'pronunciation': ['lịch sử'],\n",
       "   'definition': ['history'],\n",
       "   'translations': ['历史 (lìshǐ) - Chinese',\n",
       "    '歴史 (rekishi) - Japanese',\n",
       "    '역사 (yeoksa) - Korean']}]}"
      ]
     },
     "execution_count": 4,
     "metadata": {},
     "output_type": "execute_result"
    }
   ],
   "source": [
    "json_dict"
   ]
  },
  {
   "cell_type": "code",
   "execution_count": 10,
   "metadata": {},
   "outputs": [
    {
     "name": "stdout",
     "output_type": "stream",
     "text": [
      "wordlist:\n",
      "type: <class 'list'>, len: 11\n",
      "keys: dict_keys(['word', 'id', 'alternative_forms', 'pronunciation', 'definition', 'translations'])\n"
     ]
    }
   ],
   "source": [
    "wordlist = json_dict[\"wordlist\"]\n",
    "print(f\"wordlist:\\ntype: {type(wordlist)}, len: {len(wordlist)}\")\n",
    "print(f\"keys: {wordlist[0].keys()}\")"
   ]
  },
  {
   "cell_type": "code",
   "execution_count": 11,
   "metadata": {},
   "outputs": [
    {
     "name": "stdout",
     "output_type": "stream",
     "text": [
      "['lý luận'], [' lý luận']: 理論\n",
      "['văn hóa'], [' văn hóa']: 文化\n",
      "['khoa học'], [' khoa học']: 科學\n",
      "['kỹ thuật'], [' kỹ thuật']: 技術\n",
      "['giáo dục'], [' giáo dục']: 教育\n",
      "['hiện đại'], [' hiện đại']: 現代\n",
      "['kinh tế'], [' kinh tế']: 經濟\n",
      "['chính trị'], [' chính trị']: 政治\n",
      "['tâm lý'], [' tâm lý']: 心理\n",
      "['xã hội'], [' xã hội']: 社會\n",
      "['lịch sử'], [' lịch sử']: 歷史\n"
     ]
    }
   ],
   "source": [
    "for word in wordlist:\n",
    "    print(f\"{word['pronunciation']}, {word['alternative_forms']}: {word['word']}\")"
   ]
  },
  {
   "cell_type": "code",
   "execution_count": 28,
   "metadata": {},
   "outputs": [
    {
     "name": "stdout",
     "output_type": "stream",
     "text": [
      "['lý luận', 'văn hóa', 'khoa học', 'kỹ thuật', 'giáo dục', 'hiện đại', 'kinh tế', 'chính trị', 'tâm lý', 'xã hội', 'lịch sử']\n",
      "['理論', '文化', '科學', '技術', '教育', '現代', '經濟', '政治', '心理', '社會', '歷史']\n",
      "\n",
      "lý luận, văn hóa, khoa học, kỹ thuật, giáo dục, hiện đại, kinh tế, chính trị, tâm lý, xã hội, lịch sử, \n",
      "理論, 文化, 科學, 技術, 教育, 現代, 經濟, 政治, 心理, 社會, 歷史, "
     ]
    }
   ],
   "source": [
    "vocab_list = [word['pronunciation'][0] for word in wordlist]\n",
    "sinogram_list = [word['word'] for word in wordlist]\n",
    "print(vocab_list)\n",
    "print(sinogram_list)\n",
    "\n",
    "print()\n",
    "[print(vocab, end=', ') for vocab in vocab_list]\n",
    "print()\n",
    "[print(sinogram, end=', ') for sinogram in sinogram_list]\n",
    "pass"
   ]
  },
  {
   "cell_type": "code",
   "execution_count": null,
   "metadata": {},
   "outputs": [],
   "source": [
    "for word in wordlist:\n",
    "    wordEntry = word['pronunciation']\n",
    "    wordEntryTwo = word['alternative_forms']\n",
    "    wordSinogram = word['word']\n",
    "    wordDefinition = word['definition']\n",
    "    #print(f\"{wordEntry}{wordSinogram}{}{}\")"
   ]
  }
 ],
 "metadata": {
  "kernelspec": {
   "display_name": "Python 3",
   "language": "python",
   "name": "python3"
  },
  "language_info": {
   "codemirror_mode": {
    "name": "ipython",
    "version": 3
   },
   "file_extension": ".py",
   "mimetype": "text/x-python",
   "name": "python",
   "nbconvert_exporter": "python",
   "pygments_lexer": "ipython3",
   "version": "3.12.5"
  }
 },
 "nbformat": 4,
 "nbformat_minor": 2
}
